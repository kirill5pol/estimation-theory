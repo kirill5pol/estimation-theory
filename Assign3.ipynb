{
 "cells": [
  {
   "cell_type": "code",
   "execution_count": 3,
   "metadata": {},
   "outputs": [],
   "source": [
    "import matplotlib.pyplot as plt\n",
    "import seaborn as sns\n",
    "import sympy as sym\n",
    "import numpy as np\n",
    "import scipy as sp\n",
    "\n",
    "from sympy import sin, cos\n",
    "\n",
    "sns.set()\n",
    "plt.rcParams[\"figure.figsize\"] = (8,8)"
   ]
  },
  {
   "cell_type": "markdown",
   "metadata": {},
   "source": [
    "# Part A"
   ]
  },
  {
   "cell_type": "markdown",
   "metadata": {},
   "source": [
    "First find the FIM:\n",
    "$$F_\\theta = \\frac{\\partial \\mu(\\theta)}{\\partial \\theta}^T Q^{-1} \\frac{\\partial \\mu(\\theta)}{\\partial \\theta}$$\n",
    "\n",
    "<br>\n",
    "\n",
    "$$\\frac{\\partial \\mu(\\theta)}{\\partial \\theta} = \\begin{bmatrix} \n",
    "    \\frac{\\partial}{\\partial \\theta} \\big (1 - cos(\\theta) \\big ) \\\\\n",
    "    \\frac{\\partial}{\\partial \\theta} \\big (1 - cos(2\\theta) \\big ) \\\\\n",
    "    \\frac{\\partial}{\\partial \\theta} \\big (1 - cos(3\\theta) \\big ) \\\\\n",
    "    \\frac{\\partial}{\\partial \\theta} \\big (1 - cos(4\\theta) \\big ) \\\\\n",
    "\\end{bmatrix} = \\begin{bmatrix} \n",
    "    sin(\\theta) \\\\\n",
    "    2 sin(2\\theta) \\\\\n",
    "    3 sin(3\\theta) \\\\\n",
    "    4 sin(4\\theta) \\\\\n",
    "\\end{bmatrix}$$\n",
    "\n",
    "<br>\n",
    "\n",
    "\\begin{align*}\n",
    "F_\\theta &= \\frac{1}{\\sigma^2}\\big (sin(\\theta) \\big )^2 + \\frac{1}{\\sigma^2}\\big (2 sin(2\\theta) \\big )^2 + \\frac{1}{\\sigma^2}\\big (3 sin(3\\theta) \\big )^2 + \\frac{1}{\\sigma^2}\\big (4 sin(4\\theta) \\big )^2 \\\\\n",
    "         &= \\frac{1}{\\sigma^2} \\Big (sin^2(\\theta) + 4 sin^2(2\\theta) + 9 sin^2(3\\theta) + 16 sin^2(4\\theta) \\Big ) \\\\\n",
    "         &= \\frac{1}{\\sigma^2} \\sum\\limits_{i=1}^{4} i^2 sin(i \\theta)\n",
    "\\end{align*}\n"
   ]
  },
  {
   "cell_type": "code",
   "execution_count": 4,
   "metadata": {},
   "outputs": [],
   "source": [
    "sigma_2 = 1  # Sigma squared\n",
    "thetas = np.linspace(0, np.pi, 1000)  # Theta range from 0 to pi\n",
    "\n",
    "def fisher(sigma_2, theta):\n",
    "    return (1 / sigma_2) * ((np.sin(theta))**2 + (2 * np.sin(2 * theta))**2 + (3 * np.sin(3 * theta))**2 + (4 * np.sin(4 * theta))**2)\n"
   ]
  },
  {
   "cell_type": "code",
   "execution_count": 5,
   "metadata": {},
   "outputs": [
    {
     "data": {
      "image/png": "[encoded data removed]",
      "text/plain": [
       "<Figure size 432x288 with 1 Axes>"
      ]
     },
     "metadata": {
      "needs_background": "light"
     },
     "output_type": "display_data"
    }
   ],
   "source": [
    "plt.plot(thetas, fisher(sigma_2, thetas))\n",
    "plt.xlabel(\"$\\\\theta$\")\n",
    "plt.ylabel(\"Fisher information\")\n",
    "plt.show()"
   ]
  },
  {
   "cell_type": "markdown",
   "metadata": {},
   "source": [
    "# Part B"
   ]
  },
  {
   "cell_type": "markdown",
   "metadata": {},
   "source": [
    "## Creating a maximum likelihood estimator function\n",
    "I couldn't find a function like `lsqnonlin()`, so I just created my own MLE finder"
   ]
  },
  {
   "cell_type": "markdown",
   "metadata": {},
   "source": [
    "Skipping a few steps here, but essentially we know the problem is a Gaussian, find the $\\theta$ that makes the data most probable from the pdf. To do that we just find the point where the derivative of the log probability is equal to zero (or if you can't find the solution analytically, where it is very close to zero works too).\n",
    "\n",
    "On paper for the derivative of the gaussian with respect to $\\theta$  I got:\n",
    "\n",
    "$$\\frac{\\partial}{\\partial \\theta} f(x | \\theta)= \\frac{1}{\\sigma^2} \\Big [\n",
    "    (x_1 + cos(\\theta) - 1)sin(\\theta) +\n",
    "    2(x_1 + cos(2\\theta) - 1)sin(2\\theta) +\n",
    "    3(x_1 + cos(3\\theta) - 1)sin(3\\theta) +\n",
    "    4(x_1 + cos(4\\theta) - 1)sin(4\\theta)\n",
    "\\Big ]$$"
   ]
  },
  {
   "cell_type": "code",
   "execution_count": 198,
   "metadata": {},
   "outputs": [
    {
     "data": {
      "text/latex": [
       "$\\displaystyle \\frac{\\left(x_{1} + \\cos{\\left(\\theta \\right)} - 1\\right) \\sin{\\left(\\theta \\right)} + 2 \\left(x_{2} + \\cos{\\left(2 \\theta \\right)} - 1\\right) \\sin{\\left(2 \\theta \\right)} + 3 \\left(x_{3} + \\cos{\\left(3 \\theta \\right)} - 1\\right) \\sin{\\left(3 \\theta \\right)} + 4 \\left(x_{4} + \\cos{\\left(4 \\theta \\right)} - 1\\right) \\sin{\\left(4 \\theta \\right)}}{\\sigma^2}$"
      ],
      "text/plain": [
       "((x_1 + cos(\\theta) - 1)*sin(\\theta) + 2*(x_2 + cos(2*\\theta) - 1)*sin(2*\\theta) + 3*(x_3 + cos(3*\\theta) - 1)*sin(3*\\theta) + 4*(x_4 + cos(4*\\theta) - 1)*sin(4*\\theta))/\\sigma^2"
      ]
     },
     "execution_count": 198,
     "metadata": {},
     "output_type": "execute_result"
    }
   ],
   "source": [
    "theta, sigma_2, x1, x2, x3, x4 = sym.symbols('\\\\theta \\sigma^2 x_1, x_2, x_3, x_4')\n",
    "eq = (-1 / (2 * sigma_2)) * (\n",
    "    (x1 - (1 - cos(1*theta)))**2 + \n",
    "    (x2 - (1 - cos(2*theta)))**2 + \n",
    "    (x3 - (1 - cos(3*theta)))**2 + \n",
    "    (x4 - (1 - cos(4*theta)))**2\n",
    ")\n",
    "sym.simplify(eq.diff(theta))  # Check if it matches paper derivation"
   ]
  },
  {
   "cell_type": "code",
   "execution_count": 201,
   "metadata": {},
   "outputs": [
    {
     "name": "stdout",
     "output_type": "stream",
     "text": [
      "((x_1 + cos(\\theta) - 1)*cos(\\theta) + 4*(x_2 + cos(2*\\theta) - 1)*cos(2*\\theta) + 9*(x_3 + cos(3*\\theta) - 1)*cos(3*\\theta) + 16*(x_4 + cos(4*\\theta) - 1)*cos(4*\\theta) - sin(\\theta)**2 - 4*sin(2*\\theta)**2 - 9*sin(3*\\theta)**2 - 16*sin(4*\\theta)**2)/\\sigma^2\n"
     ]
    }
   ],
   "source": [
    "# Also calculate the hessian to be able to use newtons method\n",
    "print(sym.simplify(sym.hessian(eq, [theta])[0]))"
   ]
  },
  {
   "cell_type": "code",
   "execution_count": null,
   "metadata": {},
   "outputs": [],
   "source": [
    "\n"
   ]
  },
  {
   "cell_type": "code",
   "execution_count": null,
   "metadata": {},
   "outputs": [],
   "source": [
    "def cost_fn(x, theta, sigma_2):\n",
    "    return (x[0] - np.cos(theta))**2 + (x[1] - np.cos(2*theta))**2 + (x[2] - np.cos(3*theta))**2 + (x[3] - np.cos(4*theta))**2\n",
    "\n",
    "def grad_theta_fn(x, theta, sigma_2):\n",
    "    return np.array(((x[0] + np.cos(theta) - 1)*np.sin(theta) + 2*(x[1] + np.cos(2*theta) - 1)*np.sin(2*theta) + 3*(x[2] + np.cos(3*theta) - 1)*np.sin(3*theta) + 4*(x[3] + np.cos(4*theta) - 1)*np.sin(4*theta)) / sigma_2)\n",
    "\n",
    "def inv_hess_theta_fn(x, theta, sigma_2):\n",
    "    return np.array(sigma_2 / ((x[0] + np.cos(theta) - 1)*np.cos(theta) + 4*(x[1] + np.cos(2*theta) - 1)*np.cos(2*theta) + 9*(x[2] + np.cos(3*theta) - 1)*np.cos(3*theta) + 16*(x[3] + np.cos(4*theta) - 1)*np.cos(4*theta) - np.sin(theta)**2 - 4*np.sin(2*theta)**2 - 9*np.sin(3*theta)**2 - 16*np.sin(4*theta)**2))\n",
    "    \n",
    "    \n",
    "def mle(x, theta0=0.5, sigma_2=0.1, cost_fn, grad_theta_fn=None, inv_hess_theta_fn=None, ftol=None, gtol=None):\n",
    "    \"\"\"\n",
    "    x               : Data point\n",
    "    theta0            : Initial parameter estimate\n",
    "    sigma_2           : Sigma^2 of the Gaussian function\n",
    "    cost_fn           : Cost function that you want to minimize\n",
    "    grad_theta_fn     : Gradient of the cost function w.r.t. the parameter being optimized\n",
    "    inv_hess_theta_fn : Inverse of the hessian of the cost function w.r.t. the parameter being optimized\n",
    "    ftol              : Stopping criteria using the cost function (always non-negative)\n",
    "    gtol              : Stopping criteria using the norm of the gradient\n",
    "    \n",
    "    \"\"\"\n",
    "    theta = theta0\n",
    "    \n",
    "    # Get initial cost, grad, and hess\n",
    "    cost = cost_fn(x, theta, sigma_2)\n",
    "    grad_theta = np.asarray(grad_theta_fn(x, theta, sigma_2))\n",
    "    inv_hess_theta = np.asarray(inv_hess_theta_fn(x, theta, sigma_2))\n",
    "\n",
    "    if ftol is not None:\n",
    "        while cost > ftol:\n",
    "            theta -= inv_hess_theta @ grad_theta\n",
    "\n",
    "            cost = cost_fn(x, theta, sigma_2)\n",
    "            grad_theta = np.asarray(grad_theta_fn(x, theta, sigma_2))\n",
    "            inv_hess_theta = np.asarray(inv_hess_theta_fn(x, theta, sigma_2))\n",
    "        \n",
    "    elif gtol is not None:\n",
    "        while np.abs(grad_theta) > gtol:\n",
    "            pass\n",
    "        \n",
    "    else:\n",
    "        raise ValueError('One of ftol or gtol must be specified.')\n",
    "    "
   ]
  },
  {
   "cell_type": "code",
   "execution_count": 204,
   "metadata": {},
   "outputs": [
    {
     "ename": "TypeError",
     "evalue": "unsupported operand type(s) for @: 'list' and 'list'",
     "output_type": "error",
     "traceback": [
      "\u001b[0;31m---------------------------------------------------------------------------\u001b[0m",
      "\u001b[0;31mTypeError\u001b[0m                                 Traceback (most recent call last)",
      "\u001b[0;32m<ipython-input-204-40e3ce1bca33>\u001b[0m in \u001b[0;36m<module>\u001b[0;34m\u001b[0m\n\u001b[0;32m----> 1\u001b[0;31m \u001b[0;34m[\u001b[0m\u001b[0;36m1\u001b[0m\u001b[0;34m]\u001b[0m \u001b[0;34m@\u001b[0m \u001b[0;34m[\u001b[0m\u001b[0;36m2.3\u001b[0m\u001b[0;34m]\u001b[0m\u001b[0;34m\u001b[0m\u001b[0m\n\u001b[0m",
      "\u001b[0;31mTypeError\u001b[0m: unsupported operand type(s) for @: 'list' and 'list'"
     ]
    }
   ],
   "source": [
    "[1] @ [2.3]"
   ]
  },
  {
   "cell_type": "code",
   "execution_count": 74,
   "metadata": {},
   "outputs": [
    {
     "data": {
      "text/plain": [
       "(0.4992115852452808,\n",
       " 0.4991982220811546,\n",
       " 0.5025162859163489,\n",
       " 0.4981590571613696)"
      ]
     },
     "execution_count": 74,
     "metadata": {},
     "output_type": "execute_result"
    }
   ],
   "source": [
    "def sample_x(theta, n=1000, sigma_2=0.1):\n",
    "    \"\"\"Same as np.random.multivariate_normal but 2x faster for diagonal covariances\"\"\"\n",
    "    return np.array([\n",
    "        np.random.normal(1 - np.cos(theta), sigma_2, size=n),\n",
    "        np.random.normal(1 - np.cos(2*theta), sigma_2, size=n),\n",
    "        np.random.normal(1 - np.cos(3*theta), sigma_2, size=n),\n",
    "        np.random.normal(1 - np.cos(4*theta), sigma_2, size=n),\n",
    "    ])\n",
    "\n",
    "xs = np.mean(sample_x(0.5), axis=1)\n",
    "# Test to make sure they're all be close to 0.5\n",
    "np.arccos(1-xs[0]), np.arccos(1-xs[1])/2, np.arccos(1-xs[2])/3, np.arccos(1-xs[3])/4"
   ]
  },
  {
   "cell_type": "code",
   "execution_count": 79,
   "metadata": {},
   "outputs": [],
   "source": [
    "# For use in scipy.optimize.least_squares (the cost functon for the estimator)\n",
    "def fun_microphone_array(theta, samples):\n",
    "    mean_array_vals = np.array([\n",
    "        1 - np.cos(theta),\n",
    "        1 - np.cos(2*theta),\n",
    "        1 - np.cos(3*theta),\n",
    "        1 - np.cos(4*theta)\n",
    "    ])\n",
    "    cost = np.sum((samples - mean_array_vals)**2)\n",
    "    return cost"
   ]
  },
  {
   "cell_type": "code",
   "execution_count": 127,
   "metadata": {},
   "outputs": [],
   "source": [
    "def estimate_theta_info(theta, theta_hat_0=0.5, n_samples=1, sigma_2=0.1, n_mc=100, bias_fn=None):\n",
    "    \"\"\"Estimate the mean, variance, and bias of the estimator of n_samples samples, and n_mc runs.\n",
    "    \n",
    "    Note: I think the question uses n_samples = 1 from the equations given but it's not so clear.\n",
    "    Using a higher n_samples will obviously improve the estimate from least squares...\n",
    "\n",
    "    Arguments:\n",
    "        theta       : Real theta that generates the data\n",
    "        theta_hat_0 : Initial estimate for theta for the least squares function (it needs a starting point)\n",
    "        n_samples   : Number of samples generated\n",
    "        sigma_2     : Sigma^2 of the generation\n",
    "        n_mc        : Number of monte carlo iterations (how many times to run least squares to)\n",
    "        bias_fn     : Given the correct theta, and an array of estimator values from the monte-carlo run,\n",
    "                      return the estimated bias (different func for parts B and C)\n",
    "\n",
    "\n",
    "    Return tuple of:\n",
    "        mu    : Mean of the estimator\n",
    "        sigma : Variance of the estimator\n",
    "        bias  : Bias of the estimator\n",
    "    \"\"\"\n",
    "    x0 = theta_hat_0\n",
    "    theta_hats = np.zeros(n_mc)\n",
    "    \n",
    "    for i in range(n_mc):\n",
    "        xs = sample_x(theta, n=n, sigma_2=sigma_2)\n",
    "#         estimate = sp.optimize.least_squares(fun_microphone_array, x0, method='lm', kwargs={'samples': xs})\n",
    "        estimate = sp.optimize.least_squares(fun_microphone_array, x0, method='trf', kwargs={'samples': xs})\n",
    "        theta_hats[i] = estimate['x']  # Get the actual theta_hat from the least_squares function\n",
    "    \n",
    "    # Calculate mu, sigma, & bias from MC run\n",
    "    mu = np.mean(theta_hats)\n",
    "    sigma = np.var(theta_hats)\n",
    "    bias = bias_fn(theta, theta_hats)\n",
    "    \n",
    "    return mu, sigma, bias\n"
   ]
  },
  {
   "cell_type": "code",
   "execution_count": 128,
   "metadata": {},
   "outputs": [],
   "source": [
    "def bias_fn_part_B(theta, theta_hats):\n",
    "    \"\"\"Return bias as shown in the equation in B)\"\"\"\n",
    "    return np.mean(-theta_hats + theta)"
   ]
  },
  {
   "cell_type": "code",
   "execution_count": 129,
   "metadata": {},
   "outputs": [],
   "source": [
    "# Run Monte-Carlo with theta range [0,1]\n",
    "thetas = np.linspace(0,1,51)\n",
    "\n",
    "# Select run values\n",
    "theta_hat_0 = 0.5  # intitial theta estimate for scipy least squares function\n",
    "n_samples = 1\n",
    "sigma_2 = 0.1\n",
    "n_mc = 100  # Number of monte-carlo iterations (higher n means more accurate means, vars, & biases)\n",
    "bias_fn = bias_fn_part_B \n",
    "\n",
    "# Initialize a arrays for the mean, variance, and bias\n",
    "mus = np.zeros_like(thetas)\n",
    "sigmas = np.zeros_like(thetas)\n",
    "biases = np.zeros_like(thetas)\n",
    "\n",
    "for i, theta in enumerate(thetas):\n",
    "    mus[i], sigmas[i], biases[i] = estimate_theta_info(theta, theta_hat_0, n_samples, sigma_2, n_mc, bias_fn)"
   ]
  },
  {
   "cell_type": "code",
   "execution_count": 132,
   "metadata": {},
   "outputs": [
    {
     "data": {
      "image/png": "[encoded data removed]",
      "text/plain": [
       "<Figure size 432x288 with 1 Axes>"
      ]
     },
     "metadata": {
      "needs_background": "light"
     },
     "output_type": "display_data"
    },
    {
     "data": {
      "image/png": "[encoded data removed]",
      "text/plain": [
       "<Figure size 432x288 with 1 Axes>"
      ]
     },
     "metadata": {
      "needs_background": "light"
     },
     "output_type": "display_data"
    },
    {
     "data": {
      "image/png": "[encoded data removed]",
      "text/plain": [
       "<Figure size 432x288 with 1 Axes>"
      ]
     },
     "metadata": {
      "needs_background": "light"
     },
     "output_type": "display_data"
    }
   ],
   "source": [
    "ys = [mus, sigmas, biases]\n",
    "ylabels = ['Mean', 'Variance', 'Bias']\n",
    "ylims = [(-0.1, 1), (0, 0.000005), (-0.001, 0.001)]\n",
    "\n",
    "for y, ylabel, ylim in zip(ys, ylabels, ylims):\n",
    "    plt.plot(thetas, y)\n",
    "    plt.xlabel('$\\hat \\\\theta $')\n",
    "    plt.ylabel(ylabel)\n",
    "    plt.ylim(ylim)\n",
    "    plt.show()"
   ]
  },
  {
   "cell_type": "markdown",
   "metadata": {},
   "source": [
    "# Part C"
   ]
  },
  {
   "cell_type": "code",
   "execution_count": null,
   "metadata": {},
   "outputs": [],
   "source": []
  },
  {
   "cell_type": "code",
   "execution_count": 160,
   "metadata": {},
   "outputs": [],
   "source": []
  },
  {
   "cell_type": "code",
   "execution_count": 161,
   "metadata": {},
   "outputs": [],
   "source": []
  },
  {
   "cell_type": "code",
   "execution_count": null,
   "metadata": {},
   "outputs": [],
   "source": []
  },
  {
   "cell_type": "code",
   "execution_count": null,
   "metadata": {},
   "outputs": [],
   "source": []
  },
  {
   "cell_type": "code",
   "execution_count": null,
   "metadata": {},
   "outputs": [],
   "source": []
  }
 ],
 "metadata": {
  "kernelspec": {
   "display_name": "qube",
   "language": "python",
   "name": "qube"
  },
  "language_info": {
   "codemirror_mode": {
    "name": "ipython",
    "version": 3
   },
   "file_extension": ".py",
   "mimetype": "text/x-python",
   "name": "python",
   "nbconvert_exporter": "python",
   "pygments_lexer": "ipython3",
   "version": "3.6.0"
  }
 },
 "nbformat": 4,
 "nbformat_minor": 4
}
