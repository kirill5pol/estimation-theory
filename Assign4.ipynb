{
 "cells": [
  {
   "cell_type": "code",
   "execution_count": 1,
   "metadata": {},
   "outputs": [],
   "source": [
    "from mpl_toolkits.mplot3d import Axes3D\n",
    "import matplotlib.pyplot as plt\n",
    "import seaborn as sns\n",
    "import scipy.signal\n",
    "import numpy as np\n",
    "import scipy as sp\n",
    "import time\n",
    "\n",
    "sns.set()\n",
    "plt.rcParams[\"figure.figsize\"] = (8,8)"
   ]
  },
  {
   "cell_type": "markdown",
   "metadata": {},
   "source": [
    "# Part A\n",
    "\n",
    "\n",
    "Consider a FIR (finite impulse response) discrete time filter such that\n",
    "\n",
    "$$\n",
    "    x_n \\sum\\limits_{m=0}^{N_h-1} h_m g_{n-m}\n",
    "$$\n",
    "\n",
    "$x_n$ is the filter output, $h_m$ are the FIR filter coefficients and, $g_n$ is the input excitation sequence which is assumed to be known. It is convenient if it is a white noise sequence of normal random samples of unit variance and zero mean. A common problem is that $x_n$ is corrupted by additive noise such that the actual observation is\n",
    "\n",
    "\n",
    "$$\n",
    "    x_n \\sum\\limits_{m=0}^{N_h-1} h_m g_{n-m} + w_n\n",
    "$$\n",
    "\n",
    "where\n",
    "\n",
    "$$\n",
    "    w \\sim \\mathcal{N}(0, \\sigma^2)\n",
    "$$\n",
    "\n",
    "Write a routine that estimates the values of $h_m$ given an input excitation sequence of $g_n$ that is assumed to be known and with\n",
    "$w_n$ as iid (independent and identically distributed) zero mean Gaussian with\n",
    "$\\sigma^2 = 0.1$. Try out your routine with the filter coefficients of: `h = [1,2,-1,4,1]`;"
   ]
  },
  {
   "cell_type": "code",
   "execution_count": 2,
   "metadata": {},
   "outputs": [],
   "source": [
    "N = 1000\n",
    "h = np.array([1, 2, -1, 4, 1])\n",
    "g = np.random.randn(N)\n",
    "sigma = 0.1\n",
    "\n",
    "x_conv = sp.signal.convolve(g, h)\n",
    "H = np.zeros((N + len(h) - 1, len(h)))"
   ]
  },
  {
   "cell_type": "code",
   "execution_count": 3,
   "metadata": {},
   "outputs": [],
   "source": [
    "for n in range(N + len(h)):\n",
    "    for m in range(len(h)):\n",
    "        g_idx = n - m\n",
    "        if 0 <= g_idx < N:\n",
    "            H[n,m] = g[g_idx]"
   ]
  },
  {
   "cell_type": "code",
   "execution_count": 4,
   "metadata": {},
   "outputs": [],
   "source": [
    "x_H = H @ h.T"
   ]
  },
  {
   "cell_type": "code",
   "execution_count": 5,
   "metadata": {},
   "outputs": [
    {
     "data": {
      "text/plain": [
       "-1.0158540675320182e-14"
      ]
     },
     "execution_count": 5,
     "metadata": {},
     "output_type": "execute_result"
    }
   ],
   "source": [
    "np.sum(x_H - x_conv)"
   ]
  },
  {
   "cell_type": "code",
   "execution_count": 6,
   "metadata": {},
   "outputs": [],
   "source": [
    "x = H @ h.T\n",
    "x += np.random.randn(*x.shape) * sigma"
   ]
  },
  {
   "cell_type": "markdown",
   "metadata": {},
   "source": [
    "### The least squares solution\n",
    "\n",
    "The least squares solution is:\n",
    "$$\n",
    "    \\hat h = \\hat \\theta = (H^T H)^{-1} H^T x\n",
    "$$"
   ]
  },
  {
   "cell_type": "code",
   "execution_count": 7,
   "metadata": {},
   "outputs": [],
   "source": [
    "h_hat = (np.linalg.inv(H.T @ H)) @ H.T @ x"
   ]
  },
  {
   "cell_type": "code",
   "execution_count": 8,
   "metadata": {},
   "outputs": [
    {
     "data": {
      "text/plain": [
       "(array([ 1,  2, -1,  4,  1]),\n",
       " array([ 0.99698539,  1.99971115, -0.99969673,  4.00214267,  1.0030392 ]))"
      ]
     },
     "execution_count": 8,
     "metadata": {},
     "output_type": "execute_result"
    }
   ],
   "source": [
    "# All values should be close\n",
    "h, h_hat"
   ]
  },
  {
   "cell_type": "markdown",
   "metadata": {},
   "source": [
    "# General Functions"
   ]
  },
  {
   "cell_type": "code",
   "execution_count": 46,
   "metadata": {},
   "outputs": [],
   "source": [
    "# Create function that will be used to rerun experiment several times\n",
    "\n",
    "def gen_H(N=1000, h=np.array([1, 2, -1, 4, 1]), g=None):\n",
    "    if g is None:\n",
    "        g = np.random.randn(N)\n",
    "\n",
    "    # Generate H\n",
    "    H = np.zeros((N + len(h) - 1, len(h)))\n",
    "    for n in range(N + len(h)):\n",
    "        for m in range(len(h)):\n",
    "            g_idx = n - m\n",
    "            if 0 <= g_idx < N:\n",
    "                H[n,m] = g[g_idx]\n",
    "    return H\n",
    "\n",
    "\n",
    "def gen_x(H, h=np.array([1, 2, -1, 4, 1]), Q=None, sigma=None):\n",
    "    # Create a x ~ N(sum(h_m * g_{n-m}), Q)\n",
    "    x = H @ h.T  # Mean of samples\n",
    "\n",
    "    if sigma is not None:\n",
    "        x += np.random.randn(*x.shape) * sigma\n",
    "    elif Q is not None:\n",
    "        x = np.random.multivariate_normal(x, Q)\n",
    "    else:\n",
    "        raise ArgumentError('One of [Q, sigma] must be given')\n",
    "\n",
    "    return x\n",
    "\n",
    "\n",
    "def matched_filter(H, x, Q_inv=None):\n",
    "    return (np.linalg.inv(H.T @ H)) @ H.T @ x\n",
    "        \n",
    "\n",
    "def run_experiment(h=np.array([1, 2, -1, 4, 1]), h_hat_fn=matched_filter, g=None, k=1000, N=1000, Q=None, sigma=None):\n",
    "    '''Using a certain h (and optionally g) run the experiment k times.'''\n",
    "    h_hats = np.zeros((k, len(h)))\n",
    "    for i in range(k):\n",
    "        H = gen_H(N=N)\n",
    "        x = gen_x(H=H, h=h, Q=Q, sigma=sigma)\n",
    "        h_hats[i,:] = h_hat_fn(H=H, x=x)\n",
    "    return h_hats\n",
    "    \n",
    "        \n",
    "def calc_avg_deviation(h, h_hats):\n",
    "    return np.mean(np.abs(h_hats - h), axis=0)\n"
   ]
  },
  {
   "cell_type": "code",
   "execution_count": 11,
   "metadata": {},
   "outputs": [],
   "source": [
    "# Calculate the avg deviation from 100 runs\n",
    "h_hats = run_experiment(np.array([1, 2, -1, 4, 1]), matched_filter, k=1000, N=1000, sigma=0.1)\n",
    "avg_dev = calc_avg_deviation(h, h_hats)"
   ]
  },
  {
   "cell_type": "code",
   "execution_count": 12,
   "metadata": {},
   "outputs": [
    {
     "data": {
      "text/plain": [
       "array([0.00256553, 0.00252203, 0.002464  , 0.00249351, 0.00264032])"
      ]
     },
     "execution_count": 12,
     "metadata": {},
     "output_type": "execute_result"
    }
   ],
   "source": [
    "avg_dev"
   ]
  },
  {
   "cell_type": "markdown",
   "metadata": {},
   "source": [
    "# Part B\n",
    "\n",
    "What is the expected deviation of the FIR coefficients in part A based on Fisher Information assuming that N=1000 data samples are used. Is there agreement?"
   ]
  },
  {
   "cell_type": "code",
   "execution_count": 107,
   "metadata": {},
   "outputs": [
    {
     "name": "stdout",
     "output_type": "stream",
     "text": [
      "Experimental deviation: [0.00265219 0.00252775 0.00218602 0.00251256 0.0025855 ]\n",
      "Expected     deviation: [0.00316098 0.00316085 0.00316084 0.00316085 0.00316098]\n"
     ]
    }
   ],
   "source": [
    "N = 1000  # Number of elements in x\n",
    "h = np.array([1, 2, -1, 4, 1])\n",
    "k = 100  # Number of times to run the experiment\n",
    "sigma = 0.1\n",
    "\n",
    "exp_devs = np.zeros((k, len(h)))\n",
    "fisher_devs = np.zeros((k, len(h)))\n",
    "\n",
    "for i in range(k):\n",
    "    H = gen_H(N, h=h)\n",
    "    x = gen_x(H, h, sigma=sigma)\n",
    "    \n",
    "    h_hat = matched_filter(H, x)\n",
    "    exp_devs[i,:] = np.abs(h - h_hat)\n",
    "    \n",
    "    J = H.T @ H / (sigma**2) # Equivalent to the H^T Q^{-1} H since Q is diagonal\n",
    "    fisher_devs[i,:] = np.sqrt(np.diag(np.linalg.inv(J)))\n",
    "\n",
    "print(f'Experimental deviation: {np.mean(exp_devs, axis=0)}')\n",
    "print(f'Expected     deviation: {np.mean(fisher_devs, axis=0)}')\n"
   ]
  },
  {
   "cell_type": "markdown",
   "metadata": {},
   "source": [
    "# Part C"
   ]
  },
  {
   "cell_type": "code",
   "execution_count": 49,
   "metadata": {},
   "outputs": [
    {
     "name": "stdout",
     "output_type": "stream",
     "text": [
      "[[0.01       0.00367879 0.00135335 0.00049787 0.00018316]\n",
      " [0.00367879 0.01       0.00367879 0.00135335 0.00049787]\n",
      " [0.00135335 0.00367879 0.01       0.00367879 0.00135335]\n",
      " [0.00049787 0.00135335 0.00367879 0.01       0.00367879]\n",
      " [0.00018316 0.00049787 0.00135335 0.00367879 0.01      ]]\n"
     ]
    }
   ],
   "source": [
    "seq_len = H.shape[0]\n",
    "Q_c = np.zeros((seq_len, seq_len))\n",
    "\n",
    "# Generate new covariance\n",
    "for n in range(seq_len):\n",
    "    for m in range(seq_len):\n",
    "        Q_c[n,m] = sigma**2 * np.exp(-np.abs(m-n))\n",
    "        \n",
    "Q_c_inv = np.linalg.inv(Q_c)\n",
    "\n",
    "# Check that the first few elements of the covariance is what we expect (diagonals = 0.1, drop off exponentially on off-diag elements)\n",
    "print(Q_c[:5,:5])"
   ]
  },
  {
   "cell_type": "code",
   "execution_count": 50,
   "metadata": {},
   "outputs": [],
   "source": [
    "# Generate new data with the new covariance\n",
    "x = H @ h.T\n",
    "x = np.random.multivariate_normal(x, Q_c)"
   ]
  },
  {
   "cell_type": "code",
   "execution_count": 51,
   "metadata": {},
   "outputs": [
    {
     "name": "stdout",
     "output_type": "stream",
     "text": [
      "[ 0.99253218  1.98865563 -0.99587199  3.99939895  1.00979686]\n"
     ]
    }
   ],
   "source": [
    "h_hat_gmf = (np.linalg.inv(H.T @ Q_c_inv @ H)) @ H.T @ Q_c_inv @ x\n",
    "\n",
    "print(h_hat_gmf)"
   ]
  },
  {
   "cell_type": "markdown",
   "metadata": {},
   "source": [
    "## Plot comparisons of MF, GMF, CRLB over a range of $0.001 \\leq \\sigma^2 \\leq 1$"
   ]
  },
  {
   "cell_type": "code",
   "execution_count": 52,
   "metadata": {},
   "outputs": [
    {
     "data": {
      "text/plain": [
       "array([0.03162278, 0.03274549, 0.03390807, 0.03511192, 0.03635851,\n",
       "       0.03764936, 0.03898604, 0.04037017, 0.04180345, 0.04328761,\n",
       "       0.04482447, 0.04641589, 0.04806381, 0.04977024, 0.05153725,\n",
       "       0.05336699, 0.0552617 , 0.05722368, 0.05925531, 0.06135907,\n",
       "       0.06353753, 0.06579332, 0.06812921, 0.07054802, 0.07305272,\n",
       "       0.07564633, 0.07833203, 0.08111308, 0.08399287, 0.0869749 ,\n",
       "       0.0900628 , 0.09326033, 0.09657139, 0.1       , 0.10355034,\n",
       "       0.10722672, 0.11103363, 0.1149757 , 0.11905772, 0.12328467,\n",
       "       0.12766169, 0.13219411, 0.13688745, 0.14174742, 0.14677993,\n",
       "       0.15199111, 0.1573873 , 0.16297508, 0.16876125, 0.17475284,\n",
       "       0.18095715, 0.18738174, 0.19403442, 0.2009233 , 0.20805675,\n",
       "       0.21544347, 0.22309244, 0.23101297, 0.23921471, 0.24770764,\n",
       "       0.25650209, 0.26560878, 0.27503878, 0.28480359, 0.29491507,\n",
       "       0.30538555, 0.31622777, 0.32745492, 0.33908067, 0.35111917,\n",
       "       0.36358509, 0.37649358, 0.38986037, 0.40370173, 0.4180345 ,\n",
       "       0.43287613, 0.44824469, 0.46415888, 0.48063809, 0.49770236,\n",
       "       0.51537247, 0.53366992, 0.552617  , 0.57223677, 0.5925531 ,\n",
       "       0.61359073, 0.63537526, 0.65793322, 0.68129207, 0.70548023,\n",
       "       0.73052715, 0.75646333, 0.78332032, 0.81113083, 0.83992871,\n",
       "       0.869749  , 0.90062802, 0.93260335, 0.96571391, 1.        ])"
      ]
     },
     "execution_count": 52,
     "metadata": {},
     "output_type": "execute_result"
    }
   ],
   "source": [
    "np.sqrt(10**np.linspace(-3, 0, 100))"
   ]
  },
  {
   "cell_type": "code",
   "execution_count": 57,
   "metadata": {},
   "outputs": [],
   "source": [
    "def gen_Q_c(sigma2, seq_len):\n",
    "    Q_c = np.zeros((seq_len, seq_len))\n",
    "\n",
    "    # Generate new covariance\n",
    "    for n in range(seq_len):\n",
    "        for m in range(seq_len):\n",
    "            Q_c[n,m] = sigma2 * np.exp(-np.abs(m-n))\n",
    "\n",
    "    Q_c_inv = np.linalg.inv(Q_c)\n",
    "    \n",
    "    return Q_c, Q_c_inv\n",
    "\n",
    "def gmf(H, x, Q_inv):\n",
    "    return (np.linalg.inv(H.T @ Q_inv @ H)) @ H.T @ Q_inv @ x"
   ]
  },
  {
   "cell_type": "code",
   "execution_count": 91,
   "metadata": {},
   "outputs": [],
   "source": [
    "N = 100  # Number of elements in x\n",
    "h = np.array([1, 2, -1, 4, 1])\n",
    "k = 100  # Number of times to run the experiment for each value of sigma^2\n",
    "sigma2s = 10**np.linspace(-3, 0, 100)  # Allows for more samples at small sigma^2, because why not?\n",
    "sigma2s = np.linspace(0.001, 1, 100)  # Allows for more samples at small sigma^2, because why not?\n",
    "seq_len = gen_H(N, h=h).shape[0]\n",
    "\n",
    "avg_devs_mf = np.zeros(sigma2s.shape + h.shape)\n",
    "avg_devs_gmf = np.zeros(sigma2s.shape + h.shape)\n",
    "avg_fisher_devs = np.zeros(sigma2s.shape + h.shape)\n",
    "\n",
    "for j, sigma2 in enumerate(sigma2s):\n",
    "    fisher_devs = np.zeros((k, len(h)))\n",
    "    exp_devs_mf = np.zeros((k, len(h)))\n",
    "    exp_devs_gmf = np.zeros((k, len(h)))\n",
    "    Q_c, Q_c_inv = gen_Q_c(sigma2, seq_len)\n",
    "\n",
    "    for i in range(k):\n",
    "        H = gen_H(N, h=h)\n",
    "        x = gen_x(H, h, Q=Q_c)\n",
    "\n",
    "        J = H.T @ Q_c_inv @ H\n",
    "        fisher_devs[i,:] = np.sqrt(np.diag(np.linalg.inv(J)))\n",
    "\n",
    "        exp_devs_mf[i,:] = np.abs(h - matched_filter(H, x))\n",
    "        exp_devs_gmf[i,:] = np.abs(h - gmf(H, x, Q_inv=Q_c_inv))\n",
    "\n",
    "    avg_devs_mf[j,:] = np.mean(exp_devs_mf, axis=0)\n",
    "    avg_devs_gmf[j,:] = np.mean(exp_devs_gmf, axis=0)\n",
    "    avg_fisher_devs[j,:] = np.mean(fisher_devs, axis=0)\n"
   ]
  },
  {
   "cell_type": "code",
   "execution_count": 97,
   "metadata": {},
   "outputs": [
    {
     "data": {
      "image/png": "[encoded data removed]",
      "text/plain": [
       "<Figure size 432x288 with 1 Axes>"
      ]
     },
     "metadata": {
      "needs_background": "light"
     },
     "output_type": "display_data"
    }
   ],
   "source": [
    "# Plot deviations for the frist element of h\n",
    "plt.plot(sigma2s, avg_devs_mf[:,0], label='Matched Filter')\n",
    "plt.plot(sigma2s, avg_devs_gmf[:,0], label='Generalized Matched Filter')\n",
    "plt.plot(sigma2s, avg_fisher_devs[:,0], label='Deviation from Fisher')\n",
    "plt.legend()\n",
    "plt.show()"
   ]
  },
  {
   "cell_type": "markdown",
   "metadata": {},
   "source": [
    "## Discussion\n",
    "\n",
    "This result makes sense due to the nature of the covariance matrix the variance between the diagonal matrix from part A and the updated convariance from this part you see that with larger values of $\\sigma$ the difference between the two estimators (in absolute terms) will increase over time. \n",
    "\n",
    "The variance of the MF is going to be some percentage higher than the GMF and this trend is pretty consistent throughout the range of $\\sigma$s"
   ]
  },
  {
   "cell_type": "markdown",
   "metadata": {},
   "source": [
    "# Part D"
   ]
  },
  {
   "cell_type": "code",
   "execution_count": 98,
   "metadata": {},
   "outputs": [],
   "source": [
    "def gen_Q_d(sigma2, seq_len):\n",
    "    Q_d = np.zeros((seq_len, seq_len))\n",
    "\n",
    "    # Generate new covariance\n",
    "    for n in range(seq_len):\n",
    "        for m in range(seq_len):\n",
    "            Q_d[n,m] = sigma2 * np.exp(-0.1 * np.abs(m-n))\n",
    "\n",
    "    Q_d_inv = np.linalg.inv(Q_d)\n",
    "    \n",
    "    return Q_d, Q_d_inv\n",
    "\n",
    "def gmf(H, x, Q_inv):\n",
    "    return (np.linalg.inv(H.T @ Q_inv @ H)) @ H.T @ Q_inv @ x"
   ]
  },
  {
   "cell_type": "code",
   "execution_count": 99,
   "metadata": {},
   "outputs": [],
   "source": [
    "N = 100  # Number of elements in x\n",
    "h = np.array([1, 2, -1, 4, 1])\n",
    "k = 100  # Number of times to run the experiment for each value of sigma^2\n",
    "sigma2s = 10**np.linspace(-3, 0, 100)  # Allows for more samples at small sigma^2, because why not?\n",
    "sigma2s = np.linspace(0.001, 1, 100)  # Allows for more samples at small sigma^2, because why not?\n",
    "seq_len = gen_H(N, h=h).shape[0]\n",
    "\n",
    "avg_devs_mf = np.zeros(sigma2s.shape + h.shape)\n",
    "avg_devs_gmf = np.zeros(sigma2s.shape + h.shape)\n",
    "avg_fisher_devs = np.zeros(sigma2s.shape + h.shape)\n",
    "\n",
    "for j, sigma2 in enumerate(sigma2s):\n",
    "    fisher_devs = np.zeros((k, len(h)))\n",
    "    exp_devs_mf = np.zeros((k, len(h)))\n",
    "    exp_devs_gmf = np.zeros((k, len(h)))\n",
    "    Q_d, Q_d_inv = gen_Q_d(sigma2, seq_len)\n",
    "\n",
    "    for i in range(k):\n",
    "        H = gen_H(N, h=h)\n",
    "        x = gen_x(H, h, Q=Q_d)\n",
    "\n",
    "        J = H.T @ Q_d_inv @ H\n",
    "        fisher_devs[i,:] = np.sqrt(np.diag(np.linalg.inv(J)))\n",
    "\n",
    "        exp_devs_mf[i,:] = np.abs(h - matched_filter(H, x))\n",
    "        exp_devs_gmf[i,:] = np.abs(h - gmf(H, x, Q_inv=Q_d_inv))\n",
    "\n",
    "    avg_devs_mf[j,:] = np.mean(exp_devs_mf, axis=0)\n",
    "    avg_devs_gmf[j,:] = np.mean(exp_devs_gmf, axis=0)\n",
    "    avg_fisher_devs[j,:] = np.mean(fisher_devs, axis=0)\n"
   ]
  },
  {
   "cell_type": "code",
   "execution_count": 100,
   "metadata": {},
   "outputs": [
    {
     "data": {
      "image/png": "[encoded data removed]",
      "text/plain": [
       "<Figure size 432x288 with 1 Axes>"
      ]
     },
     "metadata": {
      "needs_background": "light"
     },
     "output_type": "display_data"
    }
   ],
   "source": [
    "# Plot deviations for the frist element of h\n",
    "plt.plot(sigma2s, avg_devs_mf[:,0], label='Matched Filter')\n",
    "plt.plot(sigma2s, avg_devs_gmf[:,0], label='Generalized Matched Filter')\n",
    "plt.plot(sigma2s, avg_fisher_devs[:,0], label='Deviation from Fisher')\n",
    "plt.legend()\n",
    "plt.show()"
   ]
  },
  {
   "cell_type": "markdown",
   "metadata": {},
   "source": [
    "# Discussion\n",
    "\n",
    "In the graphs we can see the drastic difference of increasing the off-diagonal elements of the covariance matrix on the performance of the MF vs GMF.\n",
    "\n",
    "This is to be expected, since the GMF takes into account the entire covariance matrix this signifcantly improves performance when you have a covariance matrix with large off-diagonal elements."
   ]
  },
  {
   "cell_type": "markdown",
   "metadata": {},
   "source": [
    "# Part E"
   ]
  },
  {
   "cell_type": "code",
   "execution_count": 108,
   "metadata": {},
   "outputs": [],
   "source": [
    "# New h, everything else stays constant as in D\n",
    "h = np.exp(-0.1*(np.arange(0,14)))\n",
    "\n",
    "N = 100  # Number of elements in x\n",
    "k = 100  # Number of times to run the experiment for each value of sigma^2\n",
    "sigma2s = 10**np.linspace(-3, 0, 100)  # Allows for more samples at small sigma^2, because why not?\n",
    "sigma2s = np.linspace(0.001, 1, 100)  # Allows for more samples at small sigma^2, because why not?\n",
    "seq_len = gen_H(N, h=h).shape[0]\n",
    "\n",
    "avg_devs_mf = np.zeros(sigma2s.shape + h.shape)\n",
    "avg_devs_gmf = np.zeros(sigma2s.shape + h.shape)\n",
    "avg_fisher_devs = np.zeros(sigma2s.shape + h.shape)\n",
    "\n",
    "for j, sigma2 in enumerate(sigma2s):\n",
    "    fisher_devs = np.zeros((k, len(h)))\n",
    "    exp_devs_mf = np.zeros((k, len(h)))\n",
    "    exp_devs_gmf = np.zeros((k, len(h)))\n",
    "    Q_d, Q_d_inv = gen_Q_d(sigma2, seq_len)\n",
    "\n",
    "    for i in range(k):\n",
    "        H = gen_H(N, h=h)\n",
    "        x = gen_x(H, h, Q=Q_d)\n",
    "\n",
    "        J = H.T @ Q_d_inv @ H\n",
    "        fisher_devs[i,:] = np.sqrt(np.diag(np.linalg.inv(J)))\n",
    "\n",
    "        exp_devs_mf[i,:] = np.abs(h - matched_filter(H, x))\n",
    "        exp_devs_gmf[i,:] = np.abs(h - gmf(H, x, Q_inv=Q_d_inv))\n",
    "\n",
    "    avg_devs_mf[j,:] = np.mean(exp_devs_mf, axis=0)\n",
    "    avg_devs_gmf[j,:] = np.mean(exp_devs_gmf, axis=0)\n",
    "    avg_fisher_devs[j,:] = np.mean(fisher_devs, axis=0)\n"
   ]
  },
  {
   "cell_type": "code",
   "execution_count": 109,
   "metadata": {},
   "outputs": [
    {
     "data": {
      "image/png": "[encoded data removed]",
      "text/plain": [
       "<Figure size 432x288 with 1 Axes>"
      ]
     },
     "metadata": {
      "needs_background": "light"
     },
     "output_type": "display_data"
    }
   ],
   "source": [
    "# Plot deviations for the frist element of h\n",
    "plt.plot(sigma2s, avg_devs_mf[:,0], label='Matched Filter')\n",
    "plt.plot(sigma2s, avg_devs_gmf[:,0], label='Generalized Matched Filter')\n",
    "plt.plot(sigma2s, avg_fisher_devs[:,0], label='Deviation from Fisher')\n",
    "plt.legend()\n",
    "plt.show()"
   ]
  },
  {
   "cell_type": "code",
   "execution_count": null,
   "metadata": {},
   "outputs": [],
   "source": []
  }
 ],
 "metadata": {
  "kernelspec": {
   "display_name": "qube",
   "language": "python",
   "name": "qube"
  },
  "language_info": {
   "codemirror_mode": {
    "name": "ipython",
    "version": 3
   },
   "file_extension": ".py",
   "mimetype": "text/x-python",
   "name": "python",
   "nbconvert_exporter": "python",
   "pygments_lexer": "ipython3",
   "version": "3.6.0"
  }
 },
 "nbformat": 4,
 "nbformat_minor": 4
}
