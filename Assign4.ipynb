{
 "cells": [
  {
   "cell_type": "code",
   "execution_count": 3,
   "metadata": {},
   "outputs": [],
   "source": [
    "from mpl_toolkits.mplot3d import Axes3D\n",
    "import matplotlib.pyplot as plt\n",
    "import seaborn as sns\n",
    "import scipy.signal\n",
    "import sympy as sym\n",
    "import numpy as np\n",
    "import scipy as sp\n",
    "\n",
    "from sympy import sin, cos\n",
    "\n",
    "sns.set()\n",
    "plt.rcParams[\"figure.figsize\"] = (8,8)"
   ]
  },
  {
   "cell_type": "markdown",
   "metadata": {},
   "source": [
    "# Part A\n",
    "\n",
    "\n",
    "Consider a FIR (finite impulse response) discrete time filter such that\n",
    "\n",
    "$$\n",
    "    x_n \\sum\\limits_{m=0}^{N_h-1} h_m g_{n-m}\n",
    "$$\n",
    "\n",
    "$x_n$ is the filter output, $h_m$ are the FIR filter coefficients and, $g_n$ is the input excitation sequence which is assumed to be known. It is convenient if it is a white noise sequence of normal random samples of unit variance and zero mean. A common problem is that $x_n$ is corrupted by additive noise such that the actual observation is\n",
    "\n",
    "\n",
    "$$\n",
    "    x_n \\sum\\limits_{m=0}^{N_h-1} h_m g_{n-m} + w_n\n",
    "$$\n",
    "\n",
    "where\n",
    "\n",
    "$$\n",
    "    w \\sim \\mathcal{N}(0, \\sigma^2)\n",
    "$$\n",
    "\n",
    "Write a routine that estimates the values of $h_m$ given an input excitation sequence of $g_n$ that is assumed to be known and with\n",
    "$w_n$ as iid (independent and identically distributed) zero mean Gaussian with\n",
    "$\\sigma^2 = 0.1$. Try out your routine with the filter coefficients of: `h = [1,2,-1,4,1]`;"
   ]
  },
  {
   "cell_type": "code",
   "execution_count": 61,
   "metadata": {},
   "outputs": [],
   "source": [
    "N = 1000\n",
    "h = np.array([1, 2, -1, 4, 1])\n",
    "g = np.random.randn(N)\n",
    "sigma = 0.1\n",
    "\n",
    "x_conv = sp.signal.convolve(g, h)\n",
    "H = np.zeros((N + len(h) - 1, len(h)))"
   ]
  },
  {
   "cell_type": "code",
   "execution_count": 62,
   "metadata": {},
   "outputs": [],
   "source": [
    "for n in range(N + len(h)):\n",
    "    for m in range(len(h)):\n",
    "        g_idx = n - m\n",
    "        if 0 <= g_idx < N:\n",
    "            H[n,m] = g[g_idx]"
   ]
  },
  {
   "cell_type": "code",
   "execution_count": 6,
   "metadata": {},
   "outputs": [],
   "source": [
    "x_H = H @ h.T"
   ]
  },
  {
   "cell_type": "code",
   "execution_count": 7,
   "metadata": {},
   "outputs": [
    {
     "data": {
      "text/plain": [
       "-1.1435297153639112e-14"
      ]
     },
     "execution_count": 7,
     "metadata": {},
     "output_type": "execute_result"
    }
   ],
   "source": [
    "np.sum(x_H - x_conv)"
   ]
  },
  {
   "cell_type": "code",
   "execution_count": 8,
   "metadata": {},
   "outputs": [],
   "source": [
    "x = H @ h.T\n",
    "x += np.random.randn(*x.shape) * sigma"
   ]
  },
  {
   "cell_type": "markdown",
   "metadata": {},
   "source": [
    "### The least squares solution\n",
    "\n",
    "The least squares solution is:\n",
    "$$\n",
    "    \\hat h = \\hat \\theta = (H^T H)^{-1} H^T x\n",
    "$$"
   ]
  },
  {
   "cell_type": "code",
   "execution_count": 9,
   "metadata": {},
   "outputs": [],
   "source": [
    "h_hat = (np.linalg.inv(H.T @ H)) @ H.T @ x"
   ]
  },
  {
   "cell_type": "code",
   "execution_count": 10,
   "metadata": {},
   "outputs": [
    {
     "data": {
      "text/plain": [
       "(array([ 1,  2, -1,  4,  1]),\n",
       " array([ 1.01319546,  1.9689184 , -0.99873338,  4.00360459,  1.01374515]))"
      ]
     },
     "execution_count": 10,
     "metadata": {},
     "output_type": "execute_result"
    }
   ],
   "source": [
    "# All values should be close\n",
    "h, h_hat"
   ]
  },
  {
   "cell_type": "code",
   "execution_count": 166,
   "metadata": {},
   "outputs": [],
   "source": [
    "# Create function that will be used to rerun experiment several times\n",
    "\n",
    "def gen_H(N=1000, h=[1, 2, -1, 4, 1], g=None):\n",
    "    if g is None:\n",
    "        g = np.random.randn(N)\n",
    "\n",
    "    # Generate H\n",
    "    H = np.zeros((N + len(h) - 1, len(h)))\n",
    "    for n in range(N + len(h)):\n",
    "        for m in range(len(h)):\n",
    "            g_idx = n - m\n",
    "            if 0 <= g_idx < N:\n",
    "                H[n,m] = g[g_idx]\n",
    "    return H\n",
    "\n",
    "\n",
    "def gen_x(H, h=[1, 2, -1, 4, 1], Q=None, sigma=None):\n",
    "    # Create a x ~ N(sum(h_m * g_{n-m}), Q)\n",
    "    h = np.asarray(h)\n",
    "    x = H @ h.T  # Mean of samples\n",
    "\n",
    "    if sigma is not None:\n",
    "        x += np.random.randn(*x.shape) * sigma\n",
    "    elif Q is not None:\n",
    "        x = np.random.multivariate_normal(x, Q)\n",
    "    else:\n",
    "        raise ArgumentError('One of [Q, sigma] must be given')\n",
    "\n",
    "    return x\n",
    "\n",
    "\n",
    "def h_hat_fn(H, x, Q):\n",
    "    return (np.linalg.inv(H.T @ H)) @ H.T @ x\n",
    "        \n",
    "\n",
    "def run_experiment(h=[1, 2, -1, 4, 1], h_hat_fn=h_hat_fn, g=None, k=1000, N=1000, Q=None, sigma=None):\n",
    "    '''Using a certain h (and optionally g) run the experiment k times.'''\n",
    "    h_hats = np.zeros((k, len(h)))\n",
    "    for i in range(k):\n",
    "        H = gen_H(N=N)\n",
    "        x = gen_x(H=H, h=h, Q=Q, sigma=sigma)\n",
    "        h_hats[i,:] = h_hat_fn(H=H, x=x, Q=Q)\n",
    "    return h_hats\n",
    "    \n",
    "        \n",
    "def calc_avg_deviation(h, h_hats):\n",
    "    return np.mean(np.abs(h_hats - h), axis=0)\n",
    "    "
   ]
  },
  {
   "cell_type": "code",
   "execution_count": 74,
   "metadata": {},
   "outputs": [],
   "source": [
    "# Calculate the avg deviation from 100 runs\n",
    "h_hats = run_experiment(h=[1, 2, -1, 4, 1], h_hat_fn=h_hat_fn, g=None, k=1000, N=1000, Q=None, sigma=0.1)\n",
    "avg_dev = calc_avg_deviation(h, h_hats)"
   ]
  },
  {
   "cell_type": "code",
   "execution_count": 75,
   "metadata": {},
   "outputs": [
    {
     "data": {
      "text/plain": [
       "array([0.00260733, 0.0025125 , 0.00253874, 0.00266757, 0.00246098])"
      ]
     },
     "execution_count": 75,
     "metadata": {},
     "output_type": "execute_result"
    }
   ],
   "source": [
    "avg_dev"
   ]
  },
  {
   "cell_type": "markdown",
   "metadata": {},
   "source": [
    "# Part B\n",
    "\n",
    "What is the expected deviation of the FIR coefficients in part A based on Fisher Information assuming that N=1000 data samples are used. Is there agreement?"
   ]
  },
  {
   "cell_type": "code",
   "execution_count": 189,
   "metadata": {},
   "outputs": [],
   "source": [
    "def run_experiment_B(h=[1, 2, -1, 4, 1], h_hat_fn=h_hat_fn, g=None, k=1000, N=1000, Q=None, sigma=None):\n",
    "    '''Using a certain h (and optionally g) run the experiment k times.'''\n",
    "    exp_devs = np.zeros((k, len(h)))\n",
    "    sqrt_crlb_devs = np.zeros((k, len(h)))\n",
    "    for i in range(k):\n",
    "        H = gen_H(N=N)\n",
    "        x = gen_x(H=H, h=h, Q=Q, sigma=sigma)\n",
    "        h_hat = h_hat_fn(H=H, x=x, Q=Q)\n",
    "        exp_devs[i,:] = np.abs(h - h_hat)\n",
    "        \n",
    "        if sigma is not None:\n",
    "            J = H.T @ H / (sigma**2) # Equivalent to the H^T Q^{-1} H since Q is diagonal\n",
    "        elif Q is not None:\n",
    "            J = H.T @ np.linalg.inv(Q) @ H\n",
    "        else:\n",
    "            raise ArgumentError('One of [Q, sigma] must be given')\n",
    "\n",
    "        J_inv = np.linalg.inv(J)\n",
    "        sqrt_crlb_devs[i,:] = np.sqrt(np.diag(J_inv))\n",
    "\n",
    "    return exp_devs, sqrt_crlb_devs\n"
   ]
  },
  {
   "cell_type": "code",
   "execution_count": null,
   "metadata": {},
   "outputs": [],
   "source": []
  },
  {
   "cell_type": "code",
   "execution_count": 191,
   "metadata": {},
   "outputs": [
    {
     "name": "stdout",
     "output_type": "stream",
     "text": [
      "nexperimental_dev: [0.00259953 0.00253518 0.0026013  0.00258036 0.00245859]\n",
      "expected_dev:     [0.0031675  0.0031675  0.00316743 0.0031675  0.0031675 ]\n"
     ]
    }
   ],
   "source": [
    "exp_devs, sqrt_crlb_devs = run_experiment_B(h=[1, 2, -1, 4, 1], h_hat_fn=h_hat_fn, k=1000, N=1000, sigma=0.1)\n",
    "\n",
    "print(f'nexperimental_dev: {np.mean(exp_devs, axis=0)}')\n",
    "print(f'expected_dev:     {np.mean(crlb_devs, axis=0)}')\n",
    "# print(f'experimental_dev: {np.mean(exp_devs**2, axis=0)}')\n",
    "# print(f'expected_dev:     {np.mean(crlb_devs**2, axis=0)}')"
   ]
  },
  {
   "cell_type": "markdown",
   "metadata": {},
   "source": [
    "# Part C"
   ]
  },
  {
   "cell_type": "code",
   "execution_count": 177,
   "metadata": {},
   "outputs": [
    {
     "name": "stdout",
     "output_type": "stream",
     "text": [
      "[0.01       0.00367879 0.00135335 ... 0.         0.         0.        ]\n"
     ]
    }
   ],
   "source": [
    "seq_len = H.shape[0]\n",
    "Q_c = np.zeros((seq_len, seq_len))\n",
    "\n",
    "for n in range(seq_len):\n",
    "    for m in range(seq_len):\n",
    "        Q_c[n,m] = sigma**2 * np.exp(-np.abs(m-n))"
   ]
  },
  {
   "cell_type": "code",
   "execution_count": 183,
   "metadata": {},
   "outputs": [
    {
     "name": "stdout",
     "output_type": "stream",
     "text": [
      "[[0.01       0.00367879 0.00135335 0.00049787 0.00018316]\n",
      " [0.00367879 0.01       0.00367879 0.00135335 0.00049787]\n",
      " [0.00135335 0.00367879 0.01       0.00367879 0.00135335]\n",
      " [0.00049787 0.00135335 0.00367879 0.01       0.00367879]\n",
      " [0.00018316 0.00049787 0.00135335 0.00367879 0.01      ]]\n"
     ]
    }
   ],
   "source": [
    "print(Q_c[:5,:5])"
   ]
  },
  {
   "cell_type": "code",
   "execution_count": 160,
   "metadata": {},
   "outputs": [],
   "source": [
    "Q_c_inv = np.linalg.inv(Q_c)"
   ]
  },
  {
   "cell_type": "code",
   "execution_count": 161,
   "metadata": {},
   "outputs": [],
   "source": [
    "# Generate new data with the new covariance\n",
    "x = H @ h.T\n",
    "x = np.random.multivariate_normal(x, Q_c)"
   ]
  },
  {
   "cell_type": "code",
   "execution_count": 162,
   "metadata": {},
   "outputs": [],
   "source": [
    "h_hat_gmf = (np.linalg.inv(H.T @ Q_c_inv @ H)) @ H.T @ Q_c_inv @ x"
   ]
  },
  {
   "cell_type": "code",
   "execution_count": 163,
   "metadata": {},
   "outputs": [
    {
     "data": {
      "text/plain": [
       "array([ 1.00323162,  2.00049214, -0.99300842,  4.00166193,  1.00095349])"
      ]
     },
     "execution_count": 163,
     "metadata": {},
     "output_type": "execute_result"
    }
   ],
   "source": [
    "h_hat_gmf"
   ]
  },
  {
   "cell_type": "code",
   "execution_count": 168,
   "metadata": {
    "collapsed": true,
    "jupyter": {
     "outputs_hidden": true
    }
   },
   "outputs": [
    {
     "name": "stdout",
     "output_type": "stream",
     "text": [
      "[[0.01       0.00367879 0.00135335 ... 0.         0.         0.        ]\n",
      " [0.00367879 0.01       0.00367879 ... 0.         0.         0.        ]\n",
      " [0.00135335 0.00367879 0.01       ... 0.         0.         0.        ]\n",
      " ...\n",
      " [0.         0.         0.         ... 0.01       0.00367879 0.00135335]\n",
      " [0.         0.         0.         ... 0.00367879 0.01       0.00367879]\n",
      " [0.         0.         0.         ... 0.00135335 0.00367879 0.01      ]]\n",
      "(1004, 1004)\n",
      "[ 1.00245978  1.99940632 -0.99556113  3.99856616  1.0012277 ]\n",
      "(1004, 1004)\n",
      "[ 0.99976527  2.00029551 -1.00045237  4.00175026  1.00118255]\n",
      "(1004, 1004)\n",
      "[ 1.00494485  1.99981835 -0.99905237  4.00111097  0.99855061]\n",
      "(1004, 1004)\n",
      "[ 0.99867222  1.99313392 -1.00063559  3.99545211  0.99739584]\n",
      "(1004, 1004)\n",
      "[ 1.0037813   1.99932894 -0.99457002  4.00263327  1.00114628]\n",
      "(1004, 1004)\n",
      "[ 0.99972566  1.99852105 -0.99901691  4.00399102  1.00268306]\n",
      "(1004, 1004)\n",
      "[ 0.99510709  1.99819931 -1.00119782  3.99296562  0.99876482]\n",
      "(1004, 1004)\n",
      "[ 1.00072314  2.00606323 -0.99644365  4.00553277  1.004923  ]\n",
      "(1004, 1004)\n",
      "[ 1.00206372  2.00069493 -0.99966477  4.00488594  1.00599571]\n",
      "(1004, 1004)\n",
      "[ 0.9962515   2.00254281 -1.00288247  4.00105253  1.00155752]\n",
      "(1004, 1004)\n",
      "[ 1.00137224  1.99736474 -1.00059765  3.99903771  0.99960328]\n",
      "(1004, 1004)\n",
      "[ 1.00417144  1.99838099 -1.00388906  3.99670705  0.99548549]\n",
      "(1004, 1004)\n",
      "[ 0.99280707  1.99864307 -1.00213238  4.00132875  1.00346598]\n",
      "(1004, 1004)\n",
      "[ 1.00318892  2.00478063 -0.99652542  3.99959028  1.00340516]\n",
      "(1004, 1004)\n",
      "[ 1.00028268  1.99836601 -1.00309173  4.0042648   1.0026571 ]\n",
      "(1004, 1004)\n",
      "[ 1.00392261  1.99829216 -1.00356743  3.9946949   0.98999653]\n",
      "(1004, 1004)\n",
      "[ 0.99956267  1.99962581 -0.99704171  3.99583202  1.00119346]\n",
      "(1004, 1004)\n",
      "[ 1.00525163  2.00616231 -0.99654016  3.99905246  0.99827118]\n",
      "(1004, 1004)\n",
      "[ 1.00405484  2.00148661 -1.0007474   4.00309375  1.0054111 ]\n",
      "(1004, 1004)\n",
      "[ 1.00103783  1.9990107  -1.0020561   3.99732731  1.0002853 ]\n",
      "(1004, 1004)\n",
      "[ 1.00770861  2.00700945 -0.9983525   3.99920841  1.00506039]\n",
      "(1004, 1004)\n",
      "[ 1.00161289  1.99848281 -1.00452745  3.99583657  0.99796322]\n",
      "(1004, 1004)\n",
      "[ 1.00299789  2.00203529 -1.00047934  4.00138473  1.00019292]\n",
      "(1004, 1004)\n",
      "[ 1.00634561  2.00497242 -1.0006136   4.00738371  0.9958277 ]\n",
      "(1004, 1004)\n",
      "[ 1.00181691  2.00002621 -1.00261368  3.99836918  0.99906178]\n",
      "(1004, 1004)\n",
      "[ 0.99803829  1.99524123 -0.99850721  4.00325744  1.00320275]\n",
      "(1004, 1004)\n",
      "[ 0.99204358  1.99645321 -1.00479666  4.00184971  1.00290916]\n",
      "(1004, 1004)\n",
      "[ 1.00013061  2.00231269 -1.00063116  4.00188785  1.00008957]\n",
      "(1004, 1004)\n",
      "[ 0.99674593  2.00047361 -0.99831668  4.00076368  1.00349524]\n",
      "(1004, 1004)\n",
      "[ 0.99526893  1.99582412 -1.00358542  4.00266191  0.99915168]\n",
      "(1004, 1004)\n",
      "[ 0.99557534  1.99167534 -1.00380248  3.99911026  0.99443426]\n",
      "(1004, 1004)\n",
      "[ 0.99760505  2.00108271 -0.997357    4.00554852  1.00523974]\n",
      "(1004, 1004)\n",
      "[ 1.00080949  1.99492829 -1.00815975  3.99830275  0.99933693]\n",
      "(1004, 1004)\n",
      "[ 0.9998371   2.00224942 -1.00103831  4.00286925  0.99892514]\n",
      "(1004, 1004)\n",
      "[ 0.996324    1.99549432 -0.99899108  4.00180505  0.99946272]\n",
      "(1004, 1004)\n",
      "[ 1.00451425  2.00295267 -0.99907041  3.99773896  0.99687944]\n",
      "(1004, 1004)\n",
      "[ 1.0042703   2.00195621 -1.00042828  3.99715592  0.99750404]\n",
      "(1004, 1004)\n",
      "[ 0.99940935  1.99859803 -0.99967886  4.00071072  1.00090745]\n",
      "(1004, 1004)\n",
      "[ 1.00025977  1.99405633 -1.00139059  3.99695027  0.99911392]\n",
      "(1004, 1004)\n",
      "[ 0.99969041  1.99989208 -1.00577261  4.0064453   1.0003825 ]\n",
      "(1004, 1004)\n",
      "[ 0.99788266  2.00039119 -1.00103183  4.00420179  1.00299197]\n",
      "(1004, 1004)\n",
      "[ 1.00147774  1.99946792 -1.00202055  3.99429871  0.99666394]\n",
      "(1004, 1004)\n",
      "[ 0.99965338  1.9958489  -0.99598264  4.00389691  1.00412307]\n",
      "(1004, 1004)\n",
      "[ 1.00419627  2.00357375 -0.99980686  4.0028115   1.00195332]\n",
      "(1004, 1004)\n",
      "[ 1.00130298  2.00100458 -0.99815963  3.99885472  1.00091051]\n",
      "(1004, 1004)\n",
      "[ 1.00545227  2.00108756 -0.9988336   4.00028495  1.00059836]\n",
      "(1004, 1004)\n",
      "[ 0.99840568  1.99511869 -1.00168223  4.0004784   0.99826637]\n",
      "(1004, 1004)\n",
      "[ 1.00138494  1.99835634 -0.99268591  4.00076919  1.0011268 ]\n",
      "(1004, 1004)\n",
      "[ 0.99980674  2.00048312 -1.00048189  3.99966099  0.99535363]\n",
      "(1004, 1004)\n",
      "[ 1.00028     2.00268699 -1.00201102  4.00256161  1.00032638]\n",
      "(1004, 1004)\n",
      "[ 1.0053072   2.00729586 -0.99552874  3.99856057  0.99932122]\n",
      "(1004, 1004)\n",
      "[ 0.99806682  1.99553907 -0.9978139   4.00445204  1.00839169]\n",
      "(1004, 1004)\n",
      "[ 1.00025778  2.00090458 -1.00172054  3.99755147  0.99861008]\n",
      "(1004, 1004)\n",
      "[ 1.00128629  1.99936946 -1.00469279  4.00046359  1.00119963]\n",
      "(1004, 1004)\n",
      "[ 0.99897174  2.00260098 -0.99789988  4.00059727  1.00082548]\n",
      "(1004, 1004)\n",
      "[ 1.00042784  2.00037122 -0.99700458  4.00178282  0.99948304]\n",
      "(1004, 1004)\n",
      "[ 0.99967223  1.9983356  -1.00052202  3.99771424  1.0005869 ]\n",
      "(1004, 1004)\n",
      "[ 0.99921335  1.99524844 -1.00120159  4.00054918  1.00011227]\n",
      "(1004, 1004)\n",
      "[ 0.99854869  1.99847756 -1.00771616  3.99939949  0.99653736]\n",
      "(1004, 1004)\n",
      "[ 0.99775997  2.00253108 -1.00023385  3.99847885  0.99704108]\n",
      "(1004, 1004)\n",
      "[ 1.00467112  2.00059015 -1.00348232  4.00039862  1.00300754]\n",
      "(1004, 1004)\n",
      "[ 0.99466134  1.99931252 -0.99968249  4.00262109  0.99832756]\n",
      "(1004, 1004)\n",
      "[ 1.00062337  1.99763153 -1.0009007   3.99628858  0.99757103]\n",
      "(1004, 1004)\n",
      "[ 0.99884876  2.00220555 -0.99940865  3.99823215  1.00016922]\n",
      "(1004, 1004)\n",
      "[ 0.9975983   1.99808587 -0.99867598  4.00486417  0.99981091]\n",
      "(1004, 1004)\n",
      "[ 0.99813582  1.9993969  -1.00467041  3.9958147   1.00325247]\n",
      "(1004, 1004)\n",
      "[ 1.00245335  2.00202309 -0.99302691  4.00286569  1.00173944]\n",
      "(1004, 1004)\n",
      "[ 0.99650867  1.99503881 -1.00618316  3.99916869  1.00206033]\n",
      "(1004, 1004)\n",
      "[ 0.9944585   1.99935816 -1.00349429  3.99770718  0.99442346]\n",
      "(1004, 1004)\n",
      "[ 1.00644922  2.00552427 -0.99390615  3.99474312  0.99506046]\n",
      "(1004, 1004)\n",
      "[ 1.00202908  2.00384257 -0.99811564  4.00294583  1.00643241]\n",
      "(1004, 1004)\n",
      "[ 0.99558738  1.99749273 -1.00029149  3.9974095   0.99529552]\n",
      "(1004, 1004)\n",
      "[ 0.99930872  1.99979623 -1.00239669  3.9982866   1.00117725]\n",
      "(1004, 1004)\n",
      "[ 1.00014049  2.00225082 -0.99692099  4.00348608  0.99739867]\n",
      "(1004, 1004)\n",
      "[ 0.99955129  1.99886157 -1.00133118  3.9974312   1.00222847]\n",
      "(1004, 1004)\n",
      "[ 1.00027547  2.00466492 -0.99668995  4.00137899  0.99816681]\n",
      "(1004, 1004)\n",
      "[ 1.00239399  1.99997726 -1.00126687  3.99939469  0.99421586]\n",
      "(1004, 1004)\n",
      "[ 1.00181502  2.00118531 -0.99993037  4.00466374  1.00097621]\n",
      "(1004, 1004)\n",
      "[ 0.99957941  2.00395793 -1.00269932  4.00043478  0.99861451]\n",
      "(1004, 1004)\n",
      "[ 0.99900242  2.00418115 -0.99295291  4.00188658  1.00341883]\n",
      "(1004, 1004)\n",
      "[ 1.00259978  2.00113678 -0.99905821  4.00214346  1.00087383]\n",
      "(1004, 1004)\n",
      "[ 1.00133749  2.00140659 -0.99334556  4.00118518  1.00160238]\n",
      "(1004, 1004)\n",
      "[ 0.99995653  2.00111187 -0.99906716  3.99858343  0.99920296]\n",
      "(1004, 1004)\n",
      "[ 0.99855514  2.00160245 -0.99813979  4.00483045  1.00446284]\n",
      "(1004, 1004)\n",
      "[ 1.00178128  2.00004244 -0.99992753  4.00239502  0.99979486]\n",
      "(1004, 1004)\n",
      "[ 0.99822234  2.00351195 -0.9959058   4.00311304  0.99790864]\n",
      "(1004, 1004)\n",
      "[ 1.0019199   2.00354586 -1.00058557  4.00137741  1.00070564]\n",
      "(1004, 1004)\n",
      "[ 1.00294135  2.00130288 -0.99874325  3.99824847  0.99889939]\n",
      "(1004, 1004)\n",
      "[ 0.99938124  2.00111003 -1.00109943  3.99360813  0.99353728]\n",
      "(1004, 1004)\n",
      "[ 0.99989983  1.99830426 -0.99845645  3.99871824  0.99754595]\n",
      "(1004, 1004)\n",
      "[ 0.99506934  1.99716351 -0.99502763  4.0035207   0.99704971]\n",
      "(1004, 1004)\n",
      "[ 1.00570905  2.0013819  -0.99849335  4.00109166  0.99932508]\n",
      "(1004, 1004)\n",
      "[ 0.99854961  1.9967781  -1.00037822  4.00295974  0.99803687]\n",
      "(1004, 1004)\n",
      "[ 1.00612564  2.00034337 -1.00126899  4.00123729  0.99761389]\n",
      "(1004, 1004)\n",
      "[ 1.00410807  2.006401   -1.00059431  3.99912238  1.00182853]\n",
      "(1004, 1004)\n",
      "[ 0.99789348  1.99883931 -0.99086607  4.00137544  1.00006392]\n",
      "(1004, 1004)\n",
      "[ 0.99743001  2.00192967 -1.00113881  3.99335072  0.9987995 ]\n",
      "(1004, 1004)\n",
      "[ 0.9988637   2.00170134 -1.00193144  4.00065626  1.00136797]\n",
      "(1004, 1004)\n",
      "[ 1.00568681  2.00280899 -0.9988787   4.00096474  1.00263153]\n",
      "(1004, 1004)\n",
      "[ 1.00032466  2.00345358 -0.99891763  4.00262399  1.00013442]\n"
     ]
    }
   ],
   "source": [
    "def h_hat_gmf_fn(H, x, Q):\n",
    "    print(Q.shape)\n",
    "    Q_inv = np.linalg.inv(Q)\n",
    "    h_hat = (np.linalg.inv(H.T @ Q_inv @ H)) @ H.T @ Q_inv @ x\n",
    "    print(h_hat)\n",
    "    return h_hat\n",
    "    \n",
    "# Calculate the avg deviation from 100 runs\n",
    "# print(Q_c)\n",
    "h_hats = run_experiment(h=[1, 2, -1, 4, 1], h_hat_fn=h_hat_gmf_fn, k=100, N=1000, Q=Q_c)\n",
    "avg_dev = calc_avg_deviation(h, h_hats)"
   ]
  },
  {
   "cell_type": "code",
   "execution_count": 174,
   "metadata": {},
   "outputs": [
    {
     "data": {
      "text/plain": [
       "(array([0.00245007, 0.00242708, 0.00243574, 0.00251556, 0.00234289]),\n",
       " array([0.00293986, 0.00319976, 0.00321227, 0.00319976, 0.00293986]))"
      ]
     },
     "execution_count": 174,
     "metadata": {},
     "output_type": "execute_result"
    }
   ],
   "source": [
    "J = H.T @ Q_c_inv @ H\n",
    "J_inv = np.linalg.inv(J)\n",
    "crlb_dev = np.sqrt(np.diag(J_inv))\n",
    "                \n",
    "avg_dev, crlb_dev"
   ]
  },
  {
   "cell_type": "markdown",
   "metadata": {},
   "source": [
    "# Part D"
   ]
  },
  {
   "cell_type": "code",
   "execution_count": 19,
   "metadata": {},
   "outputs": [],
   "source": [
    "seq_len = H.shape[0]\n",
    "Q_d = np.zeros((seq_len, seq_len))\n",
    "\n",
    "for n in range(seq_len):\n",
    "    for m in range(seq_len):\n",
    "        Q_d[n,m] = sigma**2 * np.exp(-0.1 * np.abs(m-n))"
   ]
  },
  {
   "cell_type": "code",
   "execution_count": 20,
   "metadata": {},
   "outputs": [],
   "source": [
    "Q_d_inv = np.linalg.inv(Q_d)"
   ]
  },
  {
   "cell_type": "code",
   "execution_count": 21,
   "metadata": {},
   "outputs": [],
   "source": [
    "# Generate new data with the new covariance\n",
    "x = H @ h.T\n",
    "x = np.random.multivariate_normal(x, Q_d)"
   ]
  },
  {
   "cell_type": "code",
   "execution_count": 22,
   "metadata": {},
   "outputs": [],
   "source": [
    "h_hat_gmf = (np.linalg.inv(H.T @ Q_d_inv @ H)) @ H.T @ Q_d_inv @ x"
   ]
  },
  {
   "cell_type": "code",
   "execution_count": 23,
   "metadata": {},
   "outputs": [
    {
     "data": {
      "text/plain": [
       "array([ 0.99940178,  1.9998907 , -0.99979081,  3.99949386,  0.99940045])"
      ]
     },
     "execution_count": 23,
     "metadata": {},
     "output_type": "execute_result"
    }
   ],
   "source": [
    "h_hat_gmf"
   ]
  },
  {
   "cell_type": "code",
   "execution_count": null,
   "metadata": {},
   "outputs": [],
   "source": []
  }
 ],
 "metadata": {
  "kernelspec": {
   "display_name": "qube",
   "language": "python",
   "name": "qube"
  },
  "language_info": {
   "codemirror_mode": {
    "name": "ipython",
    "version": 3
   },
   "file_extension": ".py",
   "mimetype": "text/x-python",
   "name": "python",
   "nbconvert_exporter": "python",
   "pygments_lexer": "ipython3",
   "version": "3.6.0"
  }
 },
 "nbformat": 4,
 "nbformat_minor": 4
}
