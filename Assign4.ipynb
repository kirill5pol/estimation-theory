{
 "cells": [
  {
   "cell_type": "code",
   "execution_count": 1,
   "metadata": {},
   "outputs": [],
   "source": [
    "import matplotlib.pyplot as plt\n",
    "import seaborn as sns\n",
    "import scipy.signal\n",
    "import sympy as sym\n",
    "import numpy as np\n",
    "import scipy as sp\n",
    "\n",
    "from sympy import sin, cos\n",
    "\n",
    "sns.set()\n",
    "plt.rcParams[\"figure.figsize\"] = (8,8)"
   ]
  },
  {
   "cell_type": "markdown",
   "metadata": {},
   "source": [
    "# Part A\n",
    "\n",
    "\n",
    "Consider a FIR (finite impulse response) discrete time filter such that\n",
    "\n",
    "$$\n",
    "    x_n \\sum\\limits_{m=0}^{N_h-1} h_m g_{n-m}\n",
    "$$\n",
    "\n",
    "$x_n$ is the filter output, $h_m$ are the FIR filter coefficients and, $g_n$ is the input excitation sequence which is assumed to be known. It is convenient if it is a white noise sequence of normal random samples of unit variance and zero mean. A common problem is that $x_n$ is corrupted by additive noise such that the actual observation is\n",
    "\n",
    "\n",
    "$$\n",
    "    x_n \\sum\\limits_{m=0}^{N_h-1} h_m g_{n-m} + w_n\n",
    "$$\n",
    "\n",
    "where\n",
    "\n",
    "$$\n",
    "    w \\sim \\mathcal{N}(0, \\sigma^2)\n",
    "$$\n",
    "\n",
    "Write a routine that estimates the values of $h_m$ given an input excitation sequence of $g_n$ that is assumed to be known and with\n",
    "$w_n$ as iid (independent and identically distributed) zero mean Gaussian with\n",
    "$\\sigma^2 = 0.1$. Try out your routine with the filter coefficients of: `h = [1,2,-1,4,1]`;"
   ]
  },
  {
   "cell_type": "code",
   "execution_count": 2,
   "metadata": {},
   "outputs": [],
   "source": [
    "N = 1000\n",
    "h = np.array([1, 2, -1, 4, 1])\n",
    "g = np.random.randn(N)\n",
    "sigma = 0.1\n",
    "\n",
    "x_conv = sp.signal.convolve(g, h)\n",
    "H = np.zeros((N + len(h) - 1, len(h)))"
   ]
  },
  {
   "cell_type": "code",
   "execution_count": 3,
   "metadata": {},
   "outputs": [],
   "source": [
    "for n in range(N + len(h)):\n",
    "    for m in range(len(h)):\n",
    "        g_idx = n - m\n",
    "        if 0 <= g_idx < N:\n",
    "            H[n,m] = g[g_idx]"
   ]
  },
  {
   "cell_type": "code",
   "execution_count": 4,
   "metadata": {},
   "outputs": [],
   "source": [
    "x_H = H @ h.T"
   ]
  },
  {
   "cell_type": "code",
   "execution_count": 5,
   "metadata": {},
   "outputs": [
    {
     "data": {
      "text/plain": [
       "1.6854573292590658e-14"
      ]
     },
     "execution_count": 5,
     "metadata": {},
     "output_type": "execute_result"
    }
   ],
   "source": [
    "np.sum(x_H - x_conv)"
   ]
  },
  {
   "cell_type": "code",
   "execution_count": 6,
   "metadata": {},
   "outputs": [],
   "source": [
    "x = H @ h.T\n",
    "x += np.random.randn(*x.shape) * sigma"
   ]
  },
  {
   "cell_type": "markdown",
   "metadata": {},
   "source": [
    "### The least squares solution\n",
    "\n",
    "The least squares solution is:\n",
    "$$\n",
    "    \\hat h = \\hat \\theta = (H^T H)^{-1} H^T x\n",
    "$$"
   ]
  },
  {
   "cell_type": "code",
   "execution_count": 7,
   "metadata": {},
   "outputs": [],
   "source": [
    "h_hat = (np.linalg.inv(H.T @ H)) @ H.T @ x"
   ]
  },
  {
   "cell_type": "code",
   "execution_count": 8,
   "metadata": {},
   "outputs": [
    {
     "data": {
      "text/plain": [
       "(array([ 1,  2, -1,  4,  1]),\n",
       " array([ 0.99910565,  2.00326773, -0.99679788,  4.00291456,  1.00310761]))"
      ]
     },
     "execution_count": 8,
     "metadata": {},
     "output_type": "execute_result"
    }
   ],
   "source": [
    "# All values should be close\n",
    "h, h_hat"
   ]
  },
  {
   "cell_type": "code",
   "execution_count": null,
   "metadata": {},
   "outputs": [],
   "source": []
  },
  {
   "cell_type": "markdown",
   "metadata": {},
   "source": [
    "# Part B\n",
    "\n",
    "What is the expected deviation of the FIR coefficients in part A based on Fisher Information assuming that N=1000 data samples are used. Is there agreement?"
   ]
  },
  {
   "cell_type": "code",
   "execution_count": 9,
   "metadata": {},
   "outputs": [],
   "source": [
    "J = H.T @ H / sigma # Equivalent to the H^T Q^{-1} H since Q is diagonal\n",
    "J_inv = np.linalg.inv(J)\n",
    "expected_dev = np.sqrt(np.diag(J_inv))"
   ]
  },
  {
   "cell_type": "code",
   "execution_count": 10,
   "metadata": {},
   "outputs": [
    {
     "data": {
      "text/plain": [
       "array([0.01005894, 0.01005895, 0.01005858, 0.01005895, 0.01005894])"
      ]
     },
     "execution_count": 10,
     "metadata": {},
     "output_type": "execute_result"
    }
   ],
   "source": [
    "expected_dev"
   ]
  },
  {
   "cell_type": "code",
   "execution_count": null,
   "metadata": {},
   "outputs": [],
   "source": []
  }
 ],
 "metadata": {
  "kernelspec": {
   "display_name": "qube",
   "language": "python",
   "name": "qube"
  },
  "language_info": {
   "codemirror_mode": {
    "name": "ipython",
    "version": 3
   },
   "file_extension": ".py",
   "mimetype": "text/x-python",
   "name": "python",
   "nbconvert_exporter": "python",
   "pygments_lexer": "ipython3",
   "version": "3.6.0"
  }
 },
 "nbformat": 4,
 "nbformat_minor": 4
}
